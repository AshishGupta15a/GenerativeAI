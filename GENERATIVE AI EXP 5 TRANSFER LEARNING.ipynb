{
 "cells": [
  {
   "cell_type": "markdown",
   "metadata": {},
   "source": [
    "<h1><center>EXPERIMENT 5</center></h1>"
   ]
  },
  {
   "cell_type": "markdown",
   "metadata": {},
   "source": [
    "# AIM:To implement the Tranfer Learning in CIFAR-10 dataset."
   ]
  },
  {
   "cell_type": "code",
   "execution_count": 1,
   "metadata": {},
   "outputs": [],
   "source": [
    "import tensorflow as tf\n",
    "from tensorflow.keras import datasets, layers, models, optimizers\n",
    "from tensorflow.keras.applications import VGG16\n",
    "from tensorflow.keras.preprocessing.image import ImageDataGenerator"
   ]
  },
  {
   "cell_type": "code",
   "execution_count": 2,
   "metadata": {},
   "outputs": [],
   "source": [
    "# Load CIFAR-10 dataset\n",
    "(train_images, train_labels), (test_images, test_labels) = datasets.cifar10.load_data()\n",
    "\n",
    "# Normalize pixel values to be between 0 and 1\n",
    "train_images, test_images = train_images / 255.0, test_images / 255.0\n",
    "\n",
    "# Define data augmentation\n",
    "train_datagen = ImageDataGenerator(\n",
    "    rotation_range=15,\n",
    "    width_shift_range=0.1,\n",
    "    height_shift_range=0.1,\n",
    "    horizontal_flip=True,\n",
    "    )\n",
    "train_datagen.fit(train_images)"
   ]
  },
  {
   "cell_type": "code",
   "execution_count": 3,
   "metadata": {},
   "outputs": [],
   "source": [
    "# Load pre-trained VGG16 model without including top dense layers\n",
    "base_model = VGG16(weights='imagenet', include_top=False, input_shape=(32, 32, 3))\n",
    "\n",
    "# Freeze all layers in base model\n",
    "for layer in base_model.layers:\n",
    "    layer.trainable = False\n",
    "\n",
    "# Add custom dense layers for CIFAR-10 classification\n",
    "model = models.Sequential()\n",
    "model.add(base_model)\n",
    "model.add(layers.Flatten())\n",
    "model.add(layers.Dense(256, activation='relu'))\n",
    "model.add(layers.Dropout(0.5))\n",
    "model.add(layers.Dense(10, activation='softmax'))\n",
    "\n",
    "# Compile the model\n",
    "model.compile(optimizer=optimizers.Adam(), \n",
    "              loss='sparse_categorical_crossentropy',\n",
    "              metrics=['accuracy'])"
   ]
  },
  {
   "cell_type": "code",
   "execution_count": 4,
   "metadata": {},
   "outputs": [
    {
     "name": "stdout",
     "output_type": "stream",
     "text": [
      "Epoch 1/10\n",
      "781/781 [==============================] - 176s 224ms/step - loss: 1.5965 - accuracy: 0.0981 - val_loss: 1.3148 - val_accuracy: 0.0971\n",
      "Epoch 2/10\n",
      "781/781 [==============================] - 159s 203ms/step - loss: 1.4119 - accuracy: 0.0979 - val_loss: 1.2624 - val_accuracy: 0.0921\n",
      "Epoch 3/10\n",
      "781/781 [==============================] - 167s 214ms/step - loss: 1.3582 - accuracy: 0.0977 - val_loss: 1.2262 - val_accuracy: 0.0924\n",
      "Epoch 4/10\n",
      "781/781 [==============================] - 160s 204ms/step - loss: 1.3267 - accuracy: 0.0986 - val_loss: 1.1974 - val_accuracy: 0.0965\n",
      "Epoch 5/10\n",
      "781/781 [==============================] - 155s 199ms/step - loss: 1.3109 - accuracy: 0.0974 - val_loss: 1.1861 - val_accuracy: 0.1128\n",
      "Epoch 6/10\n",
      "781/781 [==============================] - 159s 203ms/step - loss: 1.2995 - accuracy: 0.0976 - val_loss: 1.1883 - val_accuracy: 0.1081\n",
      "Epoch 7/10\n",
      "781/781 [==============================] - 154s 198ms/step - loss: 1.2793 - accuracy: 0.0974 - val_loss: 1.1796 - val_accuracy: 0.1044\n",
      "Epoch 8/10\n",
      "781/781 [==============================] - 159s 204ms/step - loss: 1.2727 - accuracy: 0.0972 - val_loss: 1.1902 - val_accuracy: 0.1459\n",
      "Epoch 9/10\n",
      "781/781 [==============================] - 157s 202ms/step - loss: 1.2591 - accuracy: 0.0968 - val_loss: 1.1521 - val_accuracy: 0.1139\n",
      "Epoch 10/10\n",
      "781/781 [==============================] - 171s 219ms/step - loss: 1.2513 - accuracy: 0.0967 - val_loss: 1.1485 - val_accuracy: 0.0935\n"
     ]
    }
   ],
   "source": [
    "# Train the model\n",
    "history = model.fit(train_datagen.flow(train_images, train_labels, batch_size=64),\n",
    "                    steps_per_epoch=len(train_images) / 64, epochs=10, \n",
    "                    validation_data=(test_images, test_labels))\n"
   ]
  },
  {
   "cell_type": "code",
   "execution_count": 5,
   "metadata": {},
   "outputs": [
    {
     "name": "stdout",
     "output_type": "stream",
     "text": [
      "313/313 [==============================] - 36s 116ms/step - loss: 1.1485 - accuracy: 0.0935\n",
      "Test accuracy: 0.09350000321865082\n"
     ]
    }
   ],
   "source": [
    "# Evaluate the model\n",
    "test_loss, test_acc = model.evaluate(test_images, test_labels)\n",
    "print(f'Test accuracy: {test_acc}')"
   ]
  }
 ],
 "metadata": {
  "kernelspec": {
   "display_name": "Python 3 (ipykernel)",
   "language": "python",
   "name": "python3"
  },
  "language_info": {
   "codemirror_mode": {
    "name": "ipython",
    "version": 3
   },
   "file_extension": ".py",
   "mimetype": "text/x-python",
   "name": "python",
   "nbconvert_exporter": "python",
   "pygments_lexer": "ipython3",
   "version": "3.10.13"
  }
 },
 "nbformat": 4,
 "nbformat_minor": 2
}
